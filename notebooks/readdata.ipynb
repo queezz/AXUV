{
 "cells": [
  {
   "cell_type": "code",
   "execution_count": 1,
   "metadata": {},
   "outputs": [
    {
     "name": "stdout",
     "output_type": "stream",
     "text": [
      "Populating the interactive namespace from numpy and matplotlib\n"
     ]
    }
   ],
   "source": [
    "%pylab inline"
   ]
  },
  {
   "cell_type": "code",
   "execution_count": 2,
   "metadata": {},
   "outputs": [],
   "source": [
    "import pandas as pd\n",
    "import numpy as np\n",
    "import os\n",
    "from os.path import join"
   ]
  },
  {
   "cell_type": "markdown",
   "metadata": {},
   "source": [
    "# Setup folders and file names"
   ]
  },
  {
   "cell_type": "code",
   "execution_count": 3,
   "metadata": {},
   "outputs": [
    {
     "name": "stdout",
     "output_type": "stream",
     "text": [
      "['AXUV_40416.CSV']\n"
     ]
    }
   ],
   "source": [
    "basedir = '../../data'\n",
    "ld = os.listdir(basedir)\n",
    "lda = [i for i in ld if i.startswith('AXUV')]\n",
    "print(lda)\n",
    "fname = lda[0]"
   ]
  },
  {
   "cell_type": "markdown",
   "metadata": {},
   "source": [
    "# Load Data with read_csv"
   ]
  },
  {
   "cell_type": "code",
   "execution_count": 4,
   "metadata": {},
   "outputs": [],
   "source": [
    "colind = ['No','Date','Time','us']\n",
    "colch  = [f'CH{i}' for i in range(1,17)]\n",
    "colnan = [f'nan{i}' for i in range(1,32-4-15)]\n",
    "columns = colind + colch + colnan"
   ]
  },
  {
   "cell_type": "code",
   "execution_count": 5,
   "metadata": {},
   "outputs": [
    {
     "data": {
      "text/html": [
       "<div>\n",
       "<style scoped>\n",
       "    .dataframe tbody tr th:only-of-type {\n",
       "        vertical-align: middle;\n",
       "    }\n",
       "\n",
       "    .dataframe tbody tr th {\n",
       "        vertical-align: top;\n",
       "    }\n",
       "\n",
       "    .dataframe thead th {\n",
       "        text-align: right;\n",
       "    }\n",
       "</style>\n",
       "<table border=\"1\" class=\"dataframe\">\n",
       "  <thead>\n",
       "    <tr style=\"text-align: right;\">\n",
       "      <th></th>\n",
       "      <th>time</th>\n",
       "      <th>CH1</th>\n",
       "      <th>CH2</th>\n",
       "      <th>CH3</th>\n",
       "      <th>CH4</th>\n",
       "      <th>CH5</th>\n",
       "      <th>CH6</th>\n",
       "      <th>CH7</th>\n",
       "      <th>CH8</th>\n",
       "      <th>CH9</th>\n",
       "      <th>CH10</th>\n",
       "      <th>CH11</th>\n",
       "      <th>CH12</th>\n",
       "      <th>CH13</th>\n",
       "      <th>CH14</th>\n",
       "      <th>CH15</th>\n",
       "      <th>CH16</th>\n",
       "    </tr>\n",
       "  </thead>\n",
       "  <tbody>\n",
       "    <tr>\n",
       "      <th>0</th>\n",
       "      <td>0.00000</td>\n",
       "      <td>-0.00361</td>\n",
       "      <td>0.00052</td>\n",
       "      <td>0.00339</td>\n",
       "      <td>-0.0012</td>\n",
       "      <td>0.00161</td>\n",
       "      <td>-0.00123</td>\n",
       "      <td>-0.00123</td>\n",
       "      <td>-0.00132</td>\n",
       "      <td>-0.00151</td>\n",
       "      <td>-0.00086</td>\n",
       "      <td>-0.00226</td>\n",
       "      <td>0.00245</td>\n",
       "      <td>0.00013</td>\n",
       "      <td>0.00076</td>\n",
       "      <td>-0.00046</td>\n",
       "      <td>-0.00081</td>\n",
       "    </tr>\n",
       "    <tr>\n",
       "      <th>1</th>\n",
       "      <td>0.00002</td>\n",
       "      <td>0.00039</td>\n",
       "      <td>0.00052</td>\n",
       "      <td>-0.00061</td>\n",
       "      <td>-0.0002</td>\n",
       "      <td>0.00161</td>\n",
       "      <td>-0.00123</td>\n",
       "      <td>-0.00123</td>\n",
       "      <td>0.00068</td>\n",
       "      <td>0.00049</td>\n",
       "      <td>-0.00086</td>\n",
       "      <td>-0.00026</td>\n",
       "      <td>0.00145</td>\n",
       "      <td>-0.00287</td>\n",
       "      <td>-0.00024</td>\n",
       "      <td>-0.00046</td>\n",
       "      <td>0.00019</td>\n",
       "    </tr>\n",
       "    <tr>\n",
       "      <th>2</th>\n",
       "      <td>0.00004</td>\n",
       "      <td>0.00039</td>\n",
       "      <td>-0.00248</td>\n",
       "      <td>-0.00161</td>\n",
       "      <td>0.0008</td>\n",
       "      <td>0.00061</td>\n",
       "      <td>-0.00123</td>\n",
       "      <td>0.00077</td>\n",
       "      <td>-0.00032</td>\n",
       "      <td>-0.00051</td>\n",
       "      <td>-0.00086</td>\n",
       "      <td>0.00074</td>\n",
       "      <td>0.00045</td>\n",
       "      <td>0.00213</td>\n",
       "      <td>-0.00024</td>\n",
       "      <td>-0.00346</td>\n",
       "      <td>0.00119</td>\n",
       "    </tr>\n",
       "    <tr>\n",
       "      <th>3</th>\n",
       "      <td>0.00006</td>\n",
       "      <td>0.00039</td>\n",
       "      <td>-0.00248</td>\n",
       "      <td>-0.00061</td>\n",
       "      <td>-0.0002</td>\n",
       "      <td>-0.00139</td>\n",
       "      <td>-0.00023</td>\n",
       "      <td>-0.00023</td>\n",
       "      <td>-0.00032</td>\n",
       "      <td>-0.00051</td>\n",
       "      <td>-0.00286</td>\n",
       "      <td>-0.00026</td>\n",
       "      <td>-0.00255</td>\n",
       "      <td>-0.00187</td>\n",
       "      <td>-0.00024</td>\n",
       "      <td>-0.00446</td>\n",
       "      <td>0.00319</td>\n",
       "    </tr>\n",
       "    <tr>\n",
       "      <th>4</th>\n",
       "      <td>0.00008</td>\n",
       "      <td>0.00039</td>\n",
       "      <td>0.00052</td>\n",
       "      <td>0.00039</td>\n",
       "      <td>-0.0022</td>\n",
       "      <td>-0.00139</td>\n",
       "      <td>0.00077</td>\n",
       "      <td>-0.00123</td>\n",
       "      <td>-0.00132</td>\n",
       "      <td>-0.00151</td>\n",
       "      <td>0.00114</td>\n",
       "      <td>-0.00126</td>\n",
       "      <td>-0.00055</td>\n",
       "      <td>-0.00087</td>\n",
       "      <td>-0.00024</td>\n",
       "      <td>-0.00046</td>\n",
       "      <td>-0.00381</td>\n",
       "    </tr>\n",
       "  </tbody>\n",
       "</table>\n",
       "</div>"
      ],
      "text/plain": [
       "      time      CH1      CH2      CH3     CH4      CH5      CH6      CH7  \\\n",
       "0  0.00000 -0.00361  0.00052  0.00339 -0.0012  0.00161 -0.00123 -0.00123   \n",
       "1  0.00002  0.00039  0.00052 -0.00061 -0.0002  0.00161 -0.00123 -0.00123   \n",
       "2  0.00004  0.00039 -0.00248 -0.00161  0.0008  0.00061 -0.00123  0.00077   \n",
       "3  0.00006  0.00039 -0.00248 -0.00061 -0.0002 -0.00139 -0.00023 -0.00023   \n",
       "4  0.00008  0.00039  0.00052  0.00039 -0.0022 -0.00139  0.00077 -0.00123   \n",
       "\n",
       "       CH8      CH9     CH10     CH11     CH12     CH13     CH14     CH15  \\\n",
       "0 -0.00132 -0.00151 -0.00086 -0.00226  0.00245  0.00013  0.00076 -0.00046   \n",
       "1  0.00068  0.00049 -0.00086 -0.00026  0.00145 -0.00287 -0.00024 -0.00046   \n",
       "2 -0.00032 -0.00051 -0.00086  0.00074  0.00045  0.00213 -0.00024 -0.00346   \n",
       "3 -0.00032 -0.00051 -0.00286 -0.00026 -0.00255 -0.00187 -0.00024 -0.00446   \n",
       "4 -0.00132 -0.00151  0.00114 -0.00126 -0.00055 -0.00087 -0.00024 -0.00046   \n",
       "\n",
       "      CH16  \n",
       "0 -0.00081  \n",
       "1  0.00019  \n",
       "2  0.00119  \n",
       "3  0.00319  \n",
       "4 -0.00381  "
      ]
     },
     "execution_count": 5,
     "metadata": {},
     "output_type": "execute_result"
    }
   ],
   "source": [
    "data = pd.read_csv(join(basedir,fname),encoding = 'cp932',skiprows = 46,names = columns)\n",
    "data = data.drop(columns = colnan)\n",
    "t = np.linspace(0,data.shape[0]*(data['us'][1]-data['us'][0])*1e-6,data.shape[0])\n",
    "data = data.drop(columns = colind)\n",
    "data.insert(0,'time',t)\n",
    "# subtract mean from first 100 points\n",
    "data.iloc[:,1:] = data.drop(columns='time').sub(data.drop(columns='time').iloc[:100,:].mean())\n",
    "data.head()"
   ]
  },
  {
   "cell_type": "code",
   "execution_count": 6,
   "metadata": {},
   "outputs": [
    {
     "data": {
      "text/plain": [
       "[<matplotlib.lines.Line2D at 0x1134fd580>]"
      ]
     },
     "execution_count": 6,
     "metadata": {},
     "output_type": "execute_result"
    },
    {
     "data": {
      "image/png": "[encoded data removed]",
      "text/plain": [
       "<Figure size 432x288 with 1 Axes>"
      ]
     },
     "metadata": {
      "needs_background": "light"
     },
     "output_type": "display_data"
    }
   ],
   "source": [
    "plot(t,data['CH1'])\n",
    "plot(t,data['CH15'])\n",
    "#_ = [plot(t,data[n]) for n in colch]"
   ]
  },
  {
   "cell_type": "code",
   "execution_count": 7,
   "metadata": {},
   "outputs": [
    {
     "data": {
      "image/png": "[encoded data removed]",
      "text/plain": [
       "<Figure size 432x288 with 2 Axes>"
      ]
     },
     "metadata": {
      "needs_background": "light"
     },
     "output_type": "display_data"
    }
   ],
   "source": [
    "xy = data.drop(columns = 'time')\n",
    "a = imshow(xy,extent = (0,16,0,4),cmap='plasma',origin='lower',aspect='auto',vmin=-0.2,vmax=1.)\n",
    "cbar = colorbar(a)"
   ]
  },
  {
   "cell_type": "code",
   "execution_count": 8,
   "metadata": {},
   "outputs": [],
   "source": [
    "#xy = data.drop(columns = 'time')\n",
    "#a = contourf(xy,levels=30,extent = (0,16,0,4),cmap='plasma',origin='lower',vmin=-0.2,vmax=1.4)\n",
    "#cbar = colorbar(a)"
   ]
  },
  {
   "cell_type": "markdown",
   "metadata": {},
   "source": [
    "# Read settings from header"
   ]
  },
  {
   "cell_type": "code",
   "execution_count": 9,
   "metadata": {},
   "outputs": [
    {
     "data": {
      "text/html": [
       "<div>\n",
       "<style scoped>\n",
       "    .dataframe tbody tr th:only-of-type {\n",
       "        vertical-align: middle;\n",
       "    }\n",
       "\n",
       "    .dataframe tbody tr th {\n",
       "        vertical-align: top;\n",
       "    }\n",
       "\n",
       "    .dataframe thead th {\n",
       "        text-align: right;\n",
       "    }\n",
       "</style>\n",
       "<table border=\"1\" class=\"dataframe\">\n",
       "  <thead>\n",
       "    <tr style=\"text-align: right;\">\n",
       "      <th></th>\n",
       "      <th>CH</th>\n",
       "      <th>Max</th>\n",
       "      <th>Min</th>\n",
       "    </tr>\n",
       "  </thead>\n",
       "  <tbody>\n",
       "    <tr>\n",
       "      <th>0</th>\n",
       "      <td>CH1</td>\n",
       "      <td>5.0</td>\n",
       "      <td>-5.0</td>\n",
       "    </tr>\n",
       "    <tr>\n",
       "      <th>1</th>\n",
       "      <td>CH2</td>\n",
       "      <td>2.5</td>\n",
       "      <td>-2.5</td>\n",
       "    </tr>\n",
       "    <tr>\n",
       "      <th>2</th>\n",
       "      <td>CH3</td>\n",
       "      <td>2.5</td>\n",
       "      <td>-2.5</td>\n",
       "    </tr>\n",
       "    <tr>\n",
       "      <th>3</th>\n",
       "      <td>CH4</td>\n",
       "      <td>2.5</td>\n",
       "      <td>-2.5</td>\n",
       "    </tr>\n",
       "    <tr>\n",
       "      <th>4</th>\n",
       "      <td>CH2-1</td>\n",
       "      <td>2.5</td>\n",
       "      <td>-2.5</td>\n",
       "    </tr>\n",
       "    <tr>\n",
       "      <th>5</th>\n",
       "      <td>CH2-2</td>\n",
       "      <td>2.5</td>\n",
       "      <td>-2.5</td>\n",
       "    </tr>\n",
       "    <tr>\n",
       "      <th>6</th>\n",
       "      <td>CH2-3</td>\n",
       "      <td>2.5</td>\n",
       "      <td>-2.5</td>\n",
       "    </tr>\n",
       "    <tr>\n",
       "      <th>7</th>\n",
       "      <td>CH2-4</td>\n",
       "      <td>2.5</td>\n",
       "      <td>-2.5</td>\n",
       "    </tr>\n",
       "    <tr>\n",
       "      <th>8</th>\n",
       "      <td>CH3-1</td>\n",
       "      <td>2.5</td>\n",
       "      <td>-2.5</td>\n",
       "    </tr>\n",
       "    <tr>\n",
       "      <th>9</th>\n",
       "      <td>CH3-2</td>\n",
       "      <td>2.5</td>\n",
       "      <td>-2.5</td>\n",
       "    </tr>\n",
       "    <tr>\n",
       "      <th>10</th>\n",
       "      <td>CH3-3</td>\n",
       "      <td>2.5</td>\n",
       "      <td>-2.5</td>\n",
       "    </tr>\n",
       "    <tr>\n",
       "      <th>11</th>\n",
       "      <td>CH3-4</td>\n",
       "      <td>2.5</td>\n",
       "      <td>-2.5</td>\n",
       "    </tr>\n",
       "    <tr>\n",
       "      <th>12</th>\n",
       "      <td>CH4-1</td>\n",
       "      <td>2.5</td>\n",
       "      <td>-2.5</td>\n",
       "    </tr>\n",
       "    <tr>\n",
       "      <th>13</th>\n",
       "      <td>CH4-2</td>\n",
       "      <td>2.5</td>\n",
       "      <td>-2.5</td>\n",
       "    </tr>\n",
       "    <tr>\n",
       "      <th>14</th>\n",
       "      <td>CH4-3</td>\n",
       "      <td>2.5</td>\n",
       "      <td>-2.5</td>\n",
       "    </tr>\n",
       "    <tr>\n",
       "      <th>15</th>\n",
       "      <td>CH4-4</td>\n",
       "      <td>2.5</td>\n",
       "      <td>-2.5</td>\n",
       "    </tr>\n",
       "  </tbody>\n",
       "</table>\n",
       "</div>"
      ],
      "text/plain": [
       "        CH  Max  Min\n",
       "0      CH1  5.0 -5.0\n",
       "1      CH2  2.5 -2.5\n",
       "2      CH3  2.5 -2.5\n",
       "3      CH4  2.5 -2.5\n",
       "4    CH2-1  2.5 -2.5\n",
       "5    CH2-2  2.5 -2.5\n",
       "6    CH2-3  2.5 -2.5\n",
       "7    CH2-4  2.5 -2.5\n",
       "8    CH3-1  2.5 -2.5\n",
       "9    CH3-2  2.5 -2.5\n",
       "10   CH3-3  2.5 -2.5\n",
       "11   CH3-4  2.5 -2.5\n",
       "12   CH4-1  2.5 -2.5\n",
       "13   CH4-2  2.5 -2.5\n",
       "14   CH4-3  2.5 -2.5\n",
       "15   CH4-4  2.5 -2.5"
      ]
     },
     "execution_count": 9,
     "metadata": {},
     "output_type": "execute_result"
    }
   ],
   "source": [
    "cols = ['No','CH','HSV','Mode','Range','Filter','Max','Min','Unit','Color','Color1','Color2','Zero']\n",
    "axuv_settings = pd.read_csv(join(basedir,fname),encoding = 'cp932',skiprows=17,nrows=16,sep=',',names = cols,usecols = ['CH','Max','Min'])\n",
    "axuv_settings"
   ]
  },
  {
   "cell_type": "markdown",
   "metadata": {},
   "source": [
    "# TODO: 'Solve saturation'"
   ]
  },
  {
   "cell_type": "markdown",
   "metadata": {},
   "source": [
    "# Get info from the header"
   ]
  },
  {
   "cell_type": "code",
   "execution_count": 10,
   "metadata": {},
   "outputs": [
    {
     "name": "stdout",
     "output_type": "stream",
     "text": [
      "0 \t ベンダ,GRAPHTEC Corporation\n",
      "1 \t モデル,\"GL7000\"\n",
      "2 \t バージョン,\"Ver2.00\"\n",
      "3 \t MaxCH,90\n",
      "4 \t LogicCH,0\n",
      "5 \t PulseCH,0\n",
      "6 \t MaxUnit,9\n",
      "7 \t UnitOrder,HSV,HSV,HSV,HSV,HSV,HSV,HSV,HSV,HSV\n",
      "8 \t UnitLP,Off,Off,Off,Off,Off,Off,Off,Off,Off\n",
      "9 \t 測定間隔,20us\n",
      "10 \t 測定点数,200000\n",
      "11 \t トリガ点,0\n",
      "12 \t 開始時刻,2019-08-29,18:55:08\n",
      "13 \t 終了時刻,2019-08-29,18:56:21\n",
      "14 \t トリガ時刻,2019-08-29,18:56:17\n",
      "15 \t アンプ設定\n",
      "16 \t CH,信号名,アンプ,入力,レンジ,フィルタ,スパン上限,スパン下限,単位,線色,,,線幅,スケーリング機能,入力側上限値,入力側下限値,出力側上限値,出力側下限値,単位\n",
      "17 \t CHU1-1,\"CH1\",HSV,DC,10V,50KHz,+5.000,-5.000, V,28,5,6,0\n",
      "18 \t CHU1-2,\"CH2\",HSV,DC,5V,50KHz,+2.500,-2.500, V,0,13,23,0\n",
      "19 \t CHU1-3,\"CH3\",HSV,DC,5V,50KHz,+2.500,-2.500, V,9,22,8,0\n",
      "20 \t CHU1-4,\"CH4\",HSV,DC,5V,50KHz,+2.500,-2.500, V,21,0,21,0\n",
      "21 \t CHU2-1,\" CH2-1\",HSV,DC,5V,50KHz,+2.500,-2.500, V,28,5,6,0\n",
      "22 \t CHU2-2,\" CH2-2\",HSV,DC,5V,50KHz,+2.500,-2.500, V,0,13,23,0\n",
      "23 \t CHU2-3,\" CH2-3\",HSV,DC,5V,50KHz,+2.500,-2.500, V,9,22,8,0\n",
      "24 \t CHU2-4,\" CH2-4\",HSV,DC,5V,50KHz,+2.500,-2.500, V,21,0,21,0\n",
      "25 \t CHU3-1,\" CH3-1\",HSV,DC,5V,50KHz,+2.500,-2.500, V,28,5,6,0\n",
      "26 \t CHU3-2,\" CH3-2\",HSV,DC,5V,50KHz,+2.500,-2.500, V,0,13,23,0\n",
      "27 \t CHU3-3,\" CH3-3\",HSV,DC,5V,50KHz,+2.500,-2.500, V,9,22,8,0\n",
      "28 \t CHU3-4,\" CH3-4\",HSV,DC,5V,50KHz,+2.500,-2.500, V,21,0,21,0\n",
      "29 \t CHU4-1,\" CH4-1\",HSV,DC,5V,50KHz,+2.500,-2.500, V,28,5,6,0\n",
      "30 \t CHU4-2,\" CH4-2\",HSV,DC,5V,50KHz,+2.500,-2.500, V,0,13,23,0\n",
      "31 \t CHU4-3,\" CH4-3\",HSV,DC,5V,50KHz,+2.500,-2.500, V,9,22,8,0\n",
      "32 \t CHU4-4,\" CH4-4\",HSV,DC,5V,50KHz,+2.500,-2.500, V,21,0,21,0\n",
      "33 \t CHU9-1,\" CH9-1\",HSV,DC,10V,5KHz,+5.000,-5.000, V,28,5,6,0\n",
      "34 \t ユーザーマーク設定,\n",
      "35 \t UserMark1,Mark 1\n",
      "36 \t UserMark2,Mark 2\n",
      "37 \t UserMark3,Mark 3\n",
      "38 \t UserMark4,Mark 4\n",
      "39 \t UserMark5,Mark 5\n",
      "40 \t UserMark6,Mark 6\n",
      "41 \t UserMark7,Mark 7\n",
      "42 \t UserMark8,Mark 8\n",
      "43 \t 測定値\n",
      "44 \t 番号,日付,時間,us,CHU1-1,CHU1-2,CHU1-3,CHU1-4,CHU2-1,CHU2-2,CHU2-3,CHU2-4,CHU3-1,CHU3-2,CHU3-3,CHU3-4,CHU4-1,CHU4-2,CHU4-3,CHU4-4,CHU9-1,AlarmU1,AlarmU2,AlarmU3,AlarmU4,AlarmU5,AlarmU6,AlarmU7,AlarmU8,AlarmU9,AlarmOut,MarkEvent\n",
      "32\n",
      "17\n",
      "45 \t NO.,Date,Time,us,\" V\",\" V\",\" V\",\" V\",\" V\",\" V\",\" V\",\" V\",\" V\",\" V\",\" V\",\" V\",\" V\",\" V\",\" V\",\" V\",\" V\",\"A1234567890\",\"A1234567890\",\"A1234567890\",\"A1234567890\",\"A1234567890\",\"A1234567890\",\"A1234567890\",\"A1234567890\",\"A1234567890\",\"AO1234567890\",\"Alarm/Info/x/User12345678\"\n",
      "46 \t 1,2019-08-29,18:56:17,0,-0.003,-0.001,+0.000,-0.003,-0.001,-0.004,-0.002,-0.003,-0.003,-0.003,-0.003,+0.001,-0.001,+0.000,-0.657,+0.001,+0.633,LLLLLLLLLL,LLLLLLLLLL,LLLLLLLLLL,LLLLLLLLLL,LLLLLLLLLL,LLLLLLLLLL,LLLLLLLLLL,LLLLLLLLLL,LLLLLLLLLL,LLLLLLLLLL,LLLLLLLLLLL\n"
     ]
    }
   ],
   "source": [
    "with open(join(basedir,fname),'r',encoding='cp932') as f:\n",
    "    for i in range(47):\n",
    "        line = f.readline()\n",
    "        print(i,'\\t',line.strip())\n",
    "        if i == 44:\n",
    "            names = line.strip().split(',')\n",
    "            print(len(names))\n",
    "            namesch = [i for i in names if 'CH' in i]\n",
    "            print(len(namesch))"
   ]
  }
 ],
 "metadata": {
  "kernelspec": {
   "display_name": "Python 3",
   "language": "python",
   "name": "python3"
  },
  "language_info": {
   "codemirror_mode": {
    "name": "ipython",
    "version": 3
   },
   "file_extension": ".py",
   "mimetype": "text/x-python",
   "name": "python",
   "nbconvert_exporter": "python",
   "pygments_lexer": "ipython3",
   "version": "3.8.0"
  }
 },
 "nbformat": 4,
 "nbformat_minor": 4
}
