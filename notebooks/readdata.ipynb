{
 "cells": [
  {
   "cell_type": "code",
   "execution_count": 1,
   "metadata": {},
   "outputs": [
    {
     "name": "stdout",
     "output_type": "stream",
     "text": [
      "Populating the interactive namespace from numpy and matplotlib\n"
     ]
    }
   ],
   "source": [
    "%pylab inline"
   ]
  },
  {
   "cell_type": "code",
   "execution_count": 22,
   "metadata": {},
   "outputs": [],
   "source": [
    "import pandas as pd\n",
    "import numpy as np\n",
    "import os\n",
    "from os.path import join"
   ]
  },
  {
   "cell_type": "code",
   "execution_count": 7,
   "metadata": {},
   "outputs": [],
   "source": [
    "#%run ../axuv_color_map.py\n",
    "%run ../axuv_for_graphtec_for82.py"
   ]
  },
  {
   "cell_type": "markdown",
   "metadata": {},
   "source": [
    "# Setup folders and file names"
   ]
  },
  {
   "cell_type": "code",
   "execution_count": 23,
   "metadata": {},
   "outputs": [
    {
     "name": "stdout",
     "output_type": "stream",
     "text": [
      "['AXUV_40416.CSV']\n"
     ]
    }
   ],
   "source": [
    "basedir = '../../data'\n",
    "ld = os.listdir(basedir)\n",
    "lda = [i for i in ld if i.startswith('AXUV')]\n",
    "print(lda)\n",
    "fname = lda[0]"
   ]
  },
  {
   "cell_type": "markdown",
   "metadata": {},
   "source": [
    "# Load Data with read_csv"
   ]
  },
  {
   "cell_type": "code",
   "execution_count": 83,
   "metadata": {},
   "outputs": [],
   "source": [
    "colind = ['No','Date','Time','us']\n",
    "colch  = [f'CH{i}' for i in range(1,17)]\n",
    "colnan = [f'nan{i}' for i in range(1,32-4-15)]\n",
    "columns = colind + colch + colnan"
   ]
  },
  {
   "cell_type": "code",
   "execution_count": 108,
   "metadata": {},
   "outputs": [
    {
     "data": {
      "text/html": [
       "<div>\n",
       "<style scoped>\n",
       "    .dataframe tbody tr th:only-of-type {\n",
       "        vertical-align: middle;\n",
       "    }\n",
       "\n",
       "    .dataframe tbody tr th {\n",
       "        vertical-align: top;\n",
       "    }\n",
       "\n",
       "    .dataframe thead th {\n",
       "        text-align: right;\n",
       "    }\n",
       "</style>\n",
       "<table border=\"1\" class=\"dataframe\">\n",
       "  <thead>\n",
       "    <tr style=\"text-align: right;\">\n",
       "      <th></th>\n",
       "      <th>No</th>\n",
       "      <th>Date</th>\n",
       "      <th>Time</th>\n",
       "      <th>us</th>\n",
       "      <th>CH1</th>\n",
       "      <th>CH2</th>\n",
       "      <th>CH3</th>\n",
       "      <th>CH4</th>\n",
       "      <th>CH5</th>\n",
       "      <th>CH6</th>\n",
       "      <th>CH7</th>\n",
       "      <th>CH8</th>\n",
       "      <th>CH9</th>\n",
       "      <th>CH10</th>\n",
       "      <th>CH11</th>\n",
       "      <th>CH12</th>\n",
       "      <th>CH13</th>\n",
       "      <th>CH14</th>\n",
       "      <th>CH15</th>\n",
       "      <th>CH16</th>\n",
       "    </tr>\n",
       "  </thead>\n",
       "  <tbody>\n",
       "    <tr>\n",
       "      <th>0</th>\n",
       "      <td>1</td>\n",
       "      <td>2019-08-29</td>\n",
       "      <td>18:56:17</td>\n",
       "      <td>0</td>\n",
       "      <td>-0.003</td>\n",
       "      <td>-0.001</td>\n",
       "      <td>0.000</td>\n",
       "      <td>-0.003</td>\n",
       "      <td>-0.001</td>\n",
       "      <td>-0.004</td>\n",
       "      <td>-0.002</td>\n",
       "      <td>-0.003</td>\n",
       "      <td>-0.003</td>\n",
       "      <td>-0.003</td>\n",
       "      <td>-0.003</td>\n",
       "      <td>0.001</td>\n",
       "      <td>-0.001</td>\n",
       "      <td>0.000</td>\n",
       "      <td>-0.657</td>\n",
       "      <td>0.001</td>\n",
       "    </tr>\n",
       "    <tr>\n",
       "      <th>1</th>\n",
       "      <td>2</td>\n",
       "      <td>2019-08-29</td>\n",
       "      <td>18:56:17</td>\n",
       "      <td>20</td>\n",
       "      <td>0.001</td>\n",
       "      <td>-0.001</td>\n",
       "      <td>-0.004</td>\n",
       "      <td>-0.002</td>\n",
       "      <td>-0.001</td>\n",
       "      <td>-0.004</td>\n",
       "      <td>-0.002</td>\n",
       "      <td>-0.001</td>\n",
       "      <td>-0.001</td>\n",
       "      <td>-0.003</td>\n",
       "      <td>-0.001</td>\n",
       "      <td>0.000</td>\n",
       "      <td>-0.004</td>\n",
       "      <td>-0.001</td>\n",
       "      <td>-0.657</td>\n",
       "      <td>0.002</td>\n",
       "    </tr>\n",
       "    <tr>\n",
       "      <th>2</th>\n",
       "      <td>3</td>\n",
       "      <td>2019-08-29</td>\n",
       "      <td>18:56:17</td>\n",
       "      <td>40</td>\n",
       "      <td>0.001</td>\n",
       "      <td>-0.004</td>\n",
       "      <td>-0.005</td>\n",
       "      <td>-0.001</td>\n",
       "      <td>-0.002</td>\n",
       "      <td>-0.004</td>\n",
       "      <td>0.000</td>\n",
       "      <td>-0.002</td>\n",
       "      <td>-0.002</td>\n",
       "      <td>-0.003</td>\n",
       "      <td>0.000</td>\n",
       "      <td>-0.001</td>\n",
       "      <td>0.001</td>\n",
       "      <td>-0.001</td>\n",
       "      <td>-0.660</td>\n",
       "      <td>0.003</td>\n",
       "    </tr>\n",
       "    <tr>\n",
       "      <th>3</th>\n",
       "      <td>4</td>\n",
       "      <td>2019-08-29</td>\n",
       "      <td>18:56:17</td>\n",
       "      <td>60</td>\n",
       "      <td>0.001</td>\n",
       "      <td>-0.004</td>\n",
       "      <td>-0.004</td>\n",
       "      <td>-0.002</td>\n",
       "      <td>-0.004</td>\n",
       "      <td>-0.003</td>\n",
       "      <td>-0.001</td>\n",
       "      <td>-0.002</td>\n",
       "      <td>-0.002</td>\n",
       "      <td>-0.005</td>\n",
       "      <td>-0.001</td>\n",
       "      <td>-0.004</td>\n",
       "      <td>-0.003</td>\n",
       "      <td>-0.001</td>\n",
       "      <td>-0.661</td>\n",
       "      <td>0.005</td>\n",
       "    </tr>\n",
       "    <tr>\n",
       "      <th>4</th>\n",
       "      <td>5</td>\n",
       "      <td>2019-08-29</td>\n",
       "      <td>18:56:17</td>\n",
       "      <td>80</td>\n",
       "      <td>0.001</td>\n",
       "      <td>-0.001</td>\n",
       "      <td>-0.003</td>\n",
       "      <td>-0.004</td>\n",
       "      <td>-0.004</td>\n",
       "      <td>-0.002</td>\n",
       "      <td>-0.002</td>\n",
       "      <td>-0.003</td>\n",
       "      <td>-0.003</td>\n",
       "      <td>-0.001</td>\n",
       "      <td>-0.002</td>\n",
       "      <td>-0.002</td>\n",
       "      <td>-0.002</td>\n",
       "      <td>-0.001</td>\n",
       "      <td>-0.657</td>\n",
       "      <td>-0.002</td>\n",
       "    </tr>\n",
       "  </tbody>\n",
       "</table>\n",
       "</div>"
      ],
      "text/plain": [
       "   No        Date      Time  us    CH1    CH2    CH3    CH4    CH5    CH6  \\\n",
       "0   1  2019-08-29  18:56:17   0 -0.003 -0.001  0.000 -0.003 -0.001 -0.004   \n",
       "1   2  2019-08-29  18:56:17  20  0.001 -0.001 -0.004 -0.002 -0.001 -0.004   \n",
       "2   3  2019-08-29  18:56:17  40  0.001 -0.004 -0.005 -0.001 -0.002 -0.004   \n",
       "3   4  2019-08-29  18:56:17  60  0.001 -0.004 -0.004 -0.002 -0.004 -0.003   \n",
       "4   5  2019-08-29  18:56:17  80  0.001 -0.001 -0.003 -0.004 -0.004 -0.002   \n",
       "\n",
       "     CH7    CH8    CH9   CH10   CH11   CH12   CH13   CH14   CH15   CH16  \n",
       "0 -0.002 -0.003 -0.003 -0.003 -0.003  0.001 -0.001  0.000 -0.657  0.001  \n",
       "1 -0.002 -0.001 -0.001 -0.003 -0.001  0.000 -0.004 -0.001 -0.657  0.002  \n",
       "2  0.000 -0.002 -0.002 -0.003  0.000 -0.001  0.001 -0.001 -0.660  0.003  \n",
       "3 -0.001 -0.002 -0.002 -0.005 -0.001 -0.004 -0.003 -0.001 -0.661  0.005  \n",
       "4 -0.002 -0.003 -0.003 -0.001 -0.002 -0.002 -0.002 -0.001 -0.657 -0.002  "
      ]
     },
     "execution_count": 108,
     "metadata": {},
     "output_type": "execute_result"
    }
   ],
   "source": [
    "data = pd.read_csv(join(basedir,fname),encoding = 'cp932',skiprows = 46,names = columns)\n",
    "data = data.drop(columns = colnan)\n",
    "t = np.linspace(0,data.shape[0]*(data['us'][1]-data['us'][0])*1e-6,data.shape[0])\n",
    "data.head()"
   ]
  },
  {
   "cell_type": "code",
   "execution_count": 124,
   "metadata": {},
   "outputs": [
    {
     "name": "stdout",
     "output_type": "stream",
     "text": [
      "['nan1', 'nan2', 'nan3', 'nan4', 'nan5', 'nan6', 'nan7', 'nan8', 'nan9', 'nan10', 'nan11', 'nan12']\n"
     ]
    }
   ],
   "source": [
    "print(colnan)"
   ]
  },
  {
   "cell_type": "code",
   "execution_count": 111,
   "metadata": {},
   "outputs": [
    {
     "data": {
      "text/plain": [
       "[<matplotlib.lines.Line2D at 0x11bb42970>]"
      ]
     },
     "execution_count": 111,
     "metadata": {},
     "output_type": "execute_result"
    },
    {
     "data": {
      "image/png": "[encoded data removed]",
      "text/plain": [
       "<Figure size 432x288 with 1 Axes>"
      ]
     },
     "metadata": {
      "needs_background": "light"
     },
     "output_type": "display_data"
    }
   ],
   "source": [
    "plot(t,data['CH7'])"
   ]
  },
  {
   "cell_type": "markdown",
   "metadata": {},
   "source": [
    "# Get info from the header"
   ]
  },
  {
   "cell_type": "code",
   "execution_count": 123,
   "metadata": {},
   "outputs": [
    {
     "name": "stdout",
     "output_type": "stream",
     "text": [
      "0 \t ベンダ,GRAPHTEC Corporation\n",
      "1 \t モデル,\"GL7000\"\n",
      "2 \t バージョン,\"Ver2.00\"\n",
      "3 \t MaxCH,90\n",
      "4 \t LogicCH,0\n",
      "5 \t PulseCH,0\n",
      "6 \t MaxUnit,9\n",
      "7 \t UnitOrder,HSV,HSV,HSV,HSV,HSV,HSV,HSV,HSV,HSV\n",
      "8 \t UnitLP,Off,Off,Off,Off,Off,Off,Off,Off,Off\n",
      "9 \t 測定間隔,20us\n",
      "10 \t 測定点数,200000\n",
      "11 \t トリガ点,0\n",
      "12 \t 開始時刻,2019-08-29,18:55:08\n",
      "13 \t 終了時刻,2019-08-29,18:56:21\n",
      "14 \t トリガ時刻,2019-08-29,18:56:17\n",
      "15 \t アンプ設定\n",
      "16 \t CH,信号名,アンプ,入力,レンジ,フィルタ,スパン上限,スパン下限,単位,線色,,,線幅,スケーリング機能,入力側上限値,入力側下限値,出力側上限値,出力側下限値,単位\n",
      "17 \t CHU1-1,\"CH1\",HSV,DC,10V,50KHz,+5.000,-5.000, V,28,5,6,0\n",
      "18 \t CHU1-2,\"CH2\",HSV,DC,5V,50KHz,+2.500,-2.500, V,0,13,23,0\n",
      "19 \t CHU1-3,\"CH3\",HSV,DC,5V,50KHz,+2.500,-2.500, V,9,22,8,0\n",
      "20 \t CHU1-4,\"CH4\",HSV,DC,5V,50KHz,+2.500,-2.500, V,21,0,21,0\n",
      "21 \t CHU2-1,\" CH2-1\",HSV,DC,5V,50KHz,+2.500,-2.500, V,28,5,6,0\n",
      "22 \t CHU2-2,\" CH2-2\",HSV,DC,5V,50KHz,+2.500,-2.500, V,0,13,23,0\n",
      "23 \t CHU2-3,\" CH2-3\",HSV,DC,5V,50KHz,+2.500,-2.500, V,9,22,8,0\n",
      "24 \t CHU2-4,\" CH2-4\",HSV,DC,5V,50KHz,+2.500,-2.500, V,21,0,21,0\n",
      "25 \t CHU3-1,\" CH3-1\",HSV,DC,5V,50KHz,+2.500,-2.500, V,28,5,6,0\n",
      "26 \t CHU3-2,\" CH3-2\",HSV,DC,5V,50KHz,+2.500,-2.500, V,0,13,23,0\n",
      "27 \t CHU3-3,\" CH3-3\",HSV,DC,5V,50KHz,+2.500,-2.500, V,9,22,8,0\n",
      "28 \t CHU3-4,\" CH3-4\",HSV,DC,5V,50KHz,+2.500,-2.500, V,21,0,21,0\n",
      "29 \t CHU4-1,\" CH4-1\",HSV,DC,5V,50KHz,+2.500,-2.500, V,28,5,6,0\n",
      "30 \t CHU4-2,\" CH4-2\",HSV,DC,5V,50KHz,+2.500,-2.500, V,0,13,23,0\n",
      "31 \t CHU4-3,\" CH4-3\",HSV,DC,5V,50KHz,+2.500,-2.500, V,9,22,8,0\n",
      "32 \t CHU4-4,\" CH4-4\",HSV,DC,5V,50KHz,+2.500,-2.500, V,21,0,21,0\n",
      "33 \t CHU9-1,\" CH9-1\",HSV,DC,10V,5KHz,+5.000,-5.000, V,28,5,6,0\n",
      "34 \t ユーザーマーク設定,\n",
      "35 \t UserMark1,Mark 1\n",
      "36 \t UserMark2,Mark 2\n",
      "37 \t UserMark3,Mark 3\n",
      "38 \t UserMark4,Mark 4\n",
      "39 \t UserMark5,Mark 5\n",
      "40 \t UserMark6,Mark 6\n",
      "41 \t UserMark7,Mark 7\n",
      "42 \t UserMark8,Mark 8\n",
      "43 \t 測定値\n",
      "44 \t 番号,日付,時間,us,CHU1-1,CHU1-2,CHU1-3,CHU1-4,CHU2-1,CHU2-2,CHU2-3,CHU2-4,CHU3-1,CHU3-2,CHU3-3,CHU3-4,CHU4-1,CHU4-2,CHU4-3,CHU4-4,CHU9-1,AlarmU1,AlarmU2,AlarmU3,AlarmU4,AlarmU5,AlarmU6,AlarmU7,AlarmU8,AlarmU9,AlarmOut,MarkEvent\n",
      "32\n",
      "17\n",
      "45 \t NO.,Date,Time,us,\" V\",\" V\",\" V\",\" V\",\" V\",\" V\",\" V\",\" V\",\" V\",\" V\",\" V\",\" V\",\" V\",\" V\",\" V\",\" V\",\" V\",\"A1234567890\",\"A1234567890\",\"A1234567890\",\"A1234567890\",\"A1234567890\",\"A1234567890\",\"A1234567890\",\"A1234567890\",\"A1234567890\",\"AO1234567890\",\"Alarm/Info/x/User12345678\"\n",
      "46 \t 1,2019-08-29,18:56:17,0,-0.003,-0.001,+0.000,-0.003,-0.001,-0.004,-0.002,-0.003,-0.003,-0.003,-0.003,+0.001,-0.001,+0.000,-0.657,+0.001,+0.633,LLLLLLLLLL,LLLLLLLLLL,LLLLLLLLLL,LLLLLLLLLL,LLLLLLLLLL,LLLLLLLLLL,LLLLLLLLLL,LLLLLLLLLL,LLLLLLLLLL,LLLLLLLLLL,LLLLLLLLLLL\n"
     ]
    }
   ],
   "source": [
    "with open(join(basedir,fname),'r',encoding='cp932') as f:\n",
    "    for i in range(47):\n",
    "        line = f.readline()\n",
    "        print(i,'\\t',line.strip())\n",
    "        if i == 44:\n",
    "            names = line.strip().split(',')\n",
    "            print(len(names))\n",
    "            namesch = [i for i in names if 'CH' in i]\n",
    "            print(len(namesch))"
   ]
  }
 ],
 "metadata": {
  "kernelspec": {
   "display_name": "Python 3",
   "language": "python",
   "name": "python3"
  },
  "language_info": {
   "codemirror_mode": {
    "name": "ipython",
    "version": 3
   },
   "file_extension": ".py",
   "mimetype": "text/x-python",
   "name": "python",
   "nbconvert_exporter": "python",
   "pygments_lexer": "ipython3",
   "version": "3.8.0"
  }
 },
 "nbformat": 4,
 "nbformat_minor": 4
}
